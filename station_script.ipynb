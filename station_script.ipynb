{
 "cells": [
  {
   "cell_type": "code",
   "execution_count": 1,
   "id": "f89a3a90",
   "metadata": {},
   "outputs": [],
   "source": [
    "import geopandas\n",
    "import numpy as np\n",
    "import matplotlib.pyplot as plt\n",
    "import matplotlib\n",
    "import pandas as pd\n",
    "from shapely import wkt\n",
    "from tqdm import tqdm\n",
    "from functions import *"
   ]
  },
  {
   "cell_type": "code",
   "execution_count": 26,
   "id": "2a8566fb",
   "metadata": {},
   "outputs": [],
   "source": [
    "import scipy as scp"
   ]
  },
  {
   "cell_type": "code",
   "execution_count": 27,
   "id": "234c2c27",
   "metadata": {},
   "outputs": [],
   "source": [
    "station_number = 5"
   ]
  },
  {
   "cell_type": "code",
   "execution_count": 19,
   "id": "fe838c43",
   "metadata": {},
   "outputs": [],
   "source": [
    "cook = geopandas.read_file(\"processed_data/cook/cook.shp\")\n",
    "cta = geopandas.read_file(\"processed_data/cta/cta.shp\")"
   ]
  },
  {
   "cell_type": "code",
   "execution_count": 24,
   "id": "6fe2f841",
   "metadata": {},
   "outputs": [
    {
     "data": {
      "text/plain": [
       "144"
      ]
     },
     "execution_count": 24,
     "metadata": {},
     "output_type": "execute_result"
    }
   ],
   "source": [
    "len(cta)"
   ]
  },
  {
   "cell_type": "code",
   "execution_count": 28,
   "id": "2c3cfcde",
   "metadata": {},
   "outputs": [
    {
     "name": "stdout",
     "output_type": "stream",
     "text": [
      "   STATION_ID           LONGNAME  DAILY_AVG_  \\\n",
      "0         230         Cumberland        3665   \n",
      "1        1350      Oak Park-Lake        1313   \n",
      "2        1260        Austin-Lake        1561   \n",
      "3         170       Ashland-Lake        2040   \n",
      "4        1160       Clinton-Lake        3930   \n",
      "5         490    Grand/Milwaukee        2520   \n",
      "6        1410  Chicago/Milwaukee        3309   \n",
      "\n",
      "                                            geometry  \n",
      "0  POLYGON ((-87.82831 41.98436, -87.82835 41.983...  \n",
      "1  POLYGON ((-87.78409 41.88705, -87.78412 41.886...  \n",
      "2  POLYGON ((-87.76444 41.88736, -87.76448 41.886...  \n",
      "3  POLYGON ((-87.65725 41.88537, -87.65729 41.884...  \n",
      "4  POLYGON ((-87.63207 41.88576, -87.63211 41.885...  \n",
      "5  POLYGON ((-87.63788 41.89124, -87.63792 41.890...  \n",
      "6  POLYGON ((-87.64551 41.89613, -87.64555 41.895...  \n"
     ]
    }
   ],
   "source": [
    "print(cta.head(7))"
   ]
  },
  {
   "cell_type": "code",
   "execution_count": 29,
   "id": "638e5875",
   "metadata": {},
   "outputs": [
    {
     "name": "stderr",
     "output_type": "stream",
     "text": [
      "100%|███████████████████████████████████████| 1331/1331 [00:46<00:00, 28.69it/s]\n"
     ]
    }
   ],
   "source": [
    "station_name = cta.at[station_number,\"LONGNAME\"]\n",
    "station_id = cta.at[station_number,\"STATION_ID\"]\n",
    "station_walkshed = cta.at[station_number,\"geometry\"]\n",
    "cook_crs = cook.crs\n",
    "total_walkshed = 0\n",
    "for i in tqdm(range(len(cook))):\n",
    "    tract_poly = cook.at[i,'geometry']\n",
    "    tract_density = cook.at[i,'density']\n",
    "    total_walkshed = total_walkshed + tract_cont_walkshed(tract_poly, station_walkshed,tract_density,cook_crs)"
   ]
  },
  {
   "cell_type": "code",
   "execution_count": 30,
   "id": "3c88bc17",
   "metadata": {},
   "outputs": [
    {
     "data": {
      "text/plain": [
       "('Grand/Milwaukee', 490, 14347.238507036995)"
      ]
     },
     "execution_count": 30,
     "metadata": {},
     "output_type": "execute_result"
    }
   ],
   "source": [
    "station_name, station_id, total_walkshed"
   ]
  },
  {
   "cell_type": "code",
   "execution_count": 10,
   "id": "1f3bea77",
   "metadata": {},
   "outputs": [],
   "source": [
    "pd.DataFrame(np.array([station_name, station_id, total_walkshed])).to_csv(\"output/\" +station_name +  \".csv\", header=None, index=None)"
   ]
  },
  {
   "cell_type": "code",
   "execution_count": 17,
   "id": "2f87497c",
   "metadata": {},
   "outputs": [
    {
     "data": {
      "text/plain": [
       "'230'"
      ]
     },
     "execution_count": 17,
     "metadata": {},
     "output_type": "execute_result"
    }
   ],
   "source": [
    "np.loadtxt(\"output/\" +station_name +  \".csv\", dtype=str)[1]"
   ]
  },
  {
   "cell_type": "code",
   "execution_count": 12,
   "id": "ed80f729",
   "metadata": {},
   "outputs": [
    {
     "data": {
      "text/html": [
       "<div>\n",
       "<style scoped>\n",
       "    .dataframe tbody tr th:only-of-type {\n",
       "        vertical-align: middle;\n",
       "    }\n",
       "\n",
       "    .dataframe tbody tr th {\n",
       "        vertical-align: top;\n",
       "    }\n",
       "\n",
       "    .dataframe thead th {\n",
       "        text-align: right;\n",
       "    }\n",
       "</style>\n",
       "<table border=\"1\" class=\"dataframe\">\n",
       "  <thead>\n",
       "    <tr style=\"text-align: right;\">\n",
       "      <th></th>\n",
       "      <th>Cumberland</th>\n",
       "    </tr>\n",
       "  </thead>\n",
       "  <tbody>\n",
       "    <tr>\n",
       "      <th>0</th>\n",
       "      <td>230.000000</td>\n",
       "    </tr>\n",
       "    <tr>\n",
       "      <th>1</th>\n",
       "      <td>5425.960792</td>\n",
       "    </tr>\n",
       "  </tbody>\n",
       "</table>\n",
       "</div>"
      ],
      "text/plain": [
       "    Cumberland\n",
       "0   230.000000\n",
       "1  5425.960792"
      ]
     },
     "execution_count": 12,
     "metadata": {},
     "output_type": "execute_result"
    }
   ],
   "source": [
    "df.head()"
   ]
  },
  {
   "cell_type": "code",
   "execution_count": 13,
   "id": "7f3224d6",
   "metadata": {},
   "outputs": [
    {
     "data": {
      "text/html": [
       "<div>\n",
       "<style scoped>\n",
       "    .dataframe tbody tr th:only-of-type {\n",
       "        vertical-align: middle;\n",
       "    }\n",
       "\n",
       "    .dataframe tbody tr th {\n",
       "        vertical-align: top;\n",
       "    }\n",
       "\n",
       "    .dataframe thead th {\n",
       "        text-align: right;\n",
       "    }\n",
       "</style>\n",
       "<table border=\"1\" class=\"dataframe\">\n",
       "  <thead>\n",
       "    <tr style=\"text-align: right;\">\n",
       "      <th></th>\n",
       "      <th>0</th>\n",
       "    </tr>\n",
       "  </thead>\n",
       "  <tbody>\n",
       "    <tr>\n",
       "      <th>0</th>\n",
       "      <td>Cumberland</td>\n",
       "    </tr>\n",
       "    <tr>\n",
       "      <th>1</th>\n",
       "      <td>230</td>\n",
       "    </tr>\n",
       "    <tr>\n",
       "      <th>2</th>\n",
       "      <td>5425.960792</td>\n",
       "    </tr>\n",
       "  </tbody>\n",
       "</table>\n",
       "</div>"
      ],
      "text/plain": [
       "             0\n",
       "0   Cumberland\n",
       "1          230\n",
       "2  5425.960792"
      ]
     },
     "execution_count": 13,
     "metadata": {},
     "output_type": "execute_result"
    }
   ],
   "source": [
    "pd.DataFrame([station_name, station_id, total_walkshed]).head()"
   ]
  },
  {
   "cell_type": "code",
   "execution_count": null,
   "id": "b86373b0",
   "metadata": {},
   "outputs": [],
   "source": []
  }
 ],
 "metadata": {
  "kernelspec": {
   "display_name": "Python 3 (ipykernel)",
   "language": "python",
   "name": "python3"
  },
  "language_info": {
   "codemirror_mode": {
    "name": "ipython",
    "version": 3
   },
   "file_extension": ".py",
   "mimetype": "text/x-python",
   "name": "python",
   "nbconvert_exporter": "python",
   "pygments_lexer": "ipython3",
   "version": "3.11.0"
  }
 },
 "nbformat": 4,
 "nbformat_minor": 5
}
